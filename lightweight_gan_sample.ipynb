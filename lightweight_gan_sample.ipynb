{
 "cells": [
  {
   "cell_type": "markdown",
   "metadata": {
    "colab_type": "text",
    "id": "view-in-github"
   },
   "source": [
    "<a href=\"https://colab.research.google.com/github/cedro3/lightweight_gan/blob/master/lightweight_gan_sample.ipynb\" target=\"_parent\"><img src=\"https://colab.research.google.com/assets/colab-badge.svg\" alt=\"Open In Colab\"/></a>"
   ]
  },
  {
   "cell_type": "markdown",
   "metadata": {
    "id": "c8uk38LJLmyT"
   },
   "source": [
    "# 取得したGPUをチェック\n",
    "下記コードを実行すると6行目に現在のGPUの種類が表示されます。\\\n",
    "GPU能力は、V100 > P100 > K80 で、「ランタイム／ランタイムを出荷設定にリセット」をクリックすると、より能力の高いGPUに接続し直せる場合があります。　"
   ]
  },
  {
   "cell_type": "code",
   "execution_count": null,
   "metadata": {
    "id": "XhRJCHD2iZgK"
   },
   "outputs": [],
   "source": [
    "# GPUのチェック\n",
    "!nvidia-smi"
   ]
  },
  {
   "cell_type": "markdown",
   "metadata": {
    "id": "Z5B-nshKVcr1"
   },
   "source": [
    "# google drive に接続\n",
    "もし、Google Colab との接続が切れても、それまでの学習結果を保存したいので、google drive 内で作業する設定にしています。"
   ]
  },
  {
   "cell_type": "code",
   "execution_count": null,
   "metadata": {
    "id": "N-07votFKG-Z"
   },
   "outputs": [],
   "source": [
    "# google drive に接続\n",
    "from google.colab import drive\n",
    "drive.mount('/content/drive')"
   ]
  },
  {
   "cell_type": "code",
   "execution_count": null,
   "metadata": {
    "id": "97gtQW6sK2K_"
   },
   "outputs": [],
   "source": [
    "# MyDrive に移動\n",
    "%cd ./drive/MyDrive"
   ]
  },
  {
   "cell_type": "markdown",
   "metadata": {},
   "source": [
    "# セットアップ"
   ]
  },
  {
   "cell_type": "code",
   "execution_count": null,
   "metadata": {
    "id": "M3Vz1AdBPfcz"
   },
   "outputs": [],
   "source": [
    "# lightweight_ganをインストール\n",
    "!pip install lightweight-gan\n",
    "\n",
    "# githubからラーメン画像をダウンロード\n",
    "!git clone https://github.com/cedro3/lightweight_gan.git\n",
    "% cd lightweight_gan/ramen"
   ]
  },
  {
   "cell_type": "markdown",
   "metadata": {
    "id": "StfegjM3VgjY"
   },
   "source": [
    "# モデルの学習"
   ]
  },
  {
   "cell_type": "code",
   "execution_count": null,
   "metadata": {
    "id": "mmxzlAQcw5am"
   },
   "outputs": [],
   "source": [
    "# 学習の実行 \n",
    "!lightweight_gan \\\n",
    "    --data ./data \\\n",
    "    --name 'ramen' \\\n",
    "    --batch-size 16 \\\n",
    "    --gradient-accumulate-every 4 \\\n",
    "    --num-train-steps 15000"
   ]
  },
  {
   "cell_type": "markdown",
   "metadata": {
    "id": "5v12vWvTHm_G"
   },
   "source": [
    "# 学習済みモデルで画像生成"
   ]
  },
  {
   "cell_type": "code",
   "execution_count": null,
   "metadata": {
    "id": "RqrscKPFHP1e"
   },
   "outputs": [],
   "source": [
    "# 学習済みモデルでJPG画像を生成\n",
    "!lightweight_gan --name 'ramen' --generate"
   ]
  },
  {
   "cell_type": "code",
   "execution_count": null,
   "metadata": {
    "id": "voYpq8icGwTx"
   },
   "outputs": [],
   "source": [
    "# 学習済みモデルでGIF動画を生成\n",
    "!lightweight_gan --name 'ramen' --generate-interpolation"
   ]
  }
 ],
 "metadata": {
  "accelerator": "GPU",
  "colab": {
   "authorship_tag": "ABX9TyMZ4nX45vcxaCF1jasvYjaK",
   "collapsed_sections": [],
   "include_colab_link": true,
   "machine_shape": "hm",
   "mount_file_id": "1cKqyz9IS_Rt-pahYxFZYMvrT3wzQWGsW",
   "name": "lightweight_gan_sample",
   "provenance": [],
   "toc_visible": true
  },
  "kernelspec": {
   "display_name": "Python 3",
   "language": "python",
   "name": "python3"
  },
  "language_info": {
   "codemirror_mode": {
    "name": "ipython",
    "version": 3
   },
   "file_extension": ".py",
   "mimetype": "text/x-python",
   "name": "python",
   "nbconvert_exporter": "python",
   "pygments_lexer": "ipython3",
   "version": "3.7.9"
  }
 },
 "nbformat": 4,
 "nbformat_minor": 1
}
