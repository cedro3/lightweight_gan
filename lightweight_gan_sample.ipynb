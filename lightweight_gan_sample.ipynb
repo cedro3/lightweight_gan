{
  "nbformat": 4,
  "nbformat_minor": 0,
  "metadata": {
    "accelerator": "GPU",
    "colab": {
      "name": "lightweight_gan_sample",
      "provenance": [],
      "collapsed_sections": [],
      "toc_visible": true,
      "machine_shape": "hm",
      "mount_file_id": "1cKqyz9IS_Rt-pahYxFZYMvrT3wzQWGsW",
      "authorship_tag": "ABX9TyMZ4nX45vcxaCF1jasvYjaK",
      "include_colab_link": true
    },
    "kernelspec": {
      "display_name": "Python 3",
      "name": "python3"
    }
  },
  "cells": [
    {
      "cell_type": "markdown",
      "metadata": {
        "id": "view-in-github",
        "colab_type": "text"
      },
      "source": [
        "<a href=\"https://colab.research.google.com/github/cedro3/lightweight_gan/blob/master/lightweight_gan_sample.ipynb\" target=\"_parent\"><img src=\"https://colab.research.google.com/assets/colab-badge.svg\" alt=\"Open In Colab\"/></a>"
      ]
    },
    {
      "cell_type": "markdown",
      "metadata": {
        "id": "c8uk38LJLmyT"
      },
      "source": [
        "# 取得したGPUをチェック\n",
        "下記コードを実行すると6行目に現在のGPUの種類が表示されます。\\\n",
        "GPU能力は、V100 > P100 > K80 で、「ランタイム／ランタイムを出荷設定にリセット」をクリックすると、より能力の高いGPUに接続し直せる場合があります。　"
      ]
    },
    {
      "cell_type": "code",
      "metadata": {
        "id": "XhRJCHD2iZgK"
      },
      "source": [
        "# GPUのチェック\n",
        "!nvidia-smi"
      ],
      "execution_count": null,
      "outputs": []
    },
    {
      "cell_type": "markdown",
      "metadata": {
        "id": "Z5B-nshKVcr1"
      },
      "source": [
        "# セットアップ\n",
        "もし、Google Colab との接続が切れても、それまでの学習結果を保存したいので、google drive 内で作業する設定にしています。"
      ]
    },
    {
      "cell_type": "code",
      "metadata": {
        "id": "N-07votFKG-Z"
      },
      "source": [
        "# google drive に接続\n",
        "from google.colab import drive\n",
        "drive.mount('/content/drive')"
      ],
      "execution_count": null,
      "outputs": []
    },
    {
      "cell_type": "code",
      "metadata": {
        "id": "97gtQW6sK2K_"
      },
      "source": [
        "# MyDrive に移動\n",
        "%cd ./drive/MyDrive"
      ],
      "execution_count": null,
      "outputs": []
    },
    {
      "cell_type": "code",
      "metadata": {
        "id": "M3Vz1AdBPfcz"
      },
      "source": [
        "# lightweight_ganをインストール\n",
        "!pip install lightweight-gan\n",
        "\n",
        "# githubからサンプルデータを取得\n",
        "!git clone https://github.com/cedro3/lightweight_gan.git\n",
        "% cd lightweight_gan/ramen"
      ],
      "execution_count": null,
      "outputs": []
    },
    {
      "cell_type": "markdown",
      "metadata": {
        "id": "StfegjM3VgjY"
      },
      "source": [
        "# モデルの学習"
      ]
    },
    {
      "cell_type": "code",
      "metadata": {
        "id": "mmxzlAQcw5am"
      },
      "source": [
        "# 学習の実行 \n",
        "!lightweight_gan \\\n",
        "    --data ./data \\\n",
        "    --name 'ramen' \\\n",
        "    --image-size 128 \\\n",
        "    --batch-size 16 \\\n",
        "    --gradient-accumulate-every 4 \\\n",
        "    --num-train-steps 15000"
      ],
      "execution_count": null,
      "outputs": []
    },
    {
      "cell_type": "markdown",
      "metadata": {
        "id": "5v12vWvTHm_G"
      },
      "source": [
        "# 学習済みモデルで画像生成"
      ]
    },
    {
      "cell_type": "code",
      "metadata": {
        "id": "RqrscKPFHP1e"
      },
      "source": [
        "# 学習済みモデルでJPG画像を生成\n",
        "!lightweight_gan --name 'ramen' --generate"
      ],
      "execution_count": null,
      "outputs": []
    },
    {
      "cell_type": "code",
      "metadata": {
        "id": "voYpq8icGwTx"
      },
      "source": [
        "# 学習済みモデルでGIF動画を生成\n",
        "!lightweight_gan --name 'ramen' --generate-interpolation"
      ],
      "execution_count": null,
      "outputs": []
    }
  ]
}